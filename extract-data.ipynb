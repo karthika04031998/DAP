{
 "cells": [
  {
   "cell_type": "code",
   "execution_count": 91,
   "id": "5efa01c9",
   "metadata": {},
   "outputs": [],
   "source": [
    "import matplotlib.pyplot as plt\n",
    "import pandas as pd\n",
    "import json\n",
    "import urllib.request\n",
    "import xml.etree.ElementTree as ET\n",
    "import psycopg2\n",
    "import seaborn as sns\n",
    "from datetime import datetime\n",
    "from pymongo import MongoClient"
   ]
  },
  {
   "cell_type": "code",
   "execution_count": 92,
   "id": "78bee2ab",
   "metadata": {},
   "outputs": [],
   "source": [
    "# Connecting to MongoDB\n",
    "mongo_client = MongoClient(\"mongodb://localhost:27017/\")\n",
    "project_db = mongo_client[\"projectdb\"]"
   ]
  },
  {
   "cell_type": "code",
   "execution_count": 93,
   "id": "f7beaec8",
   "metadata": {
    "scrolled": true
   },
   "outputs": [
    {
     "name": "stdout",
     "output_type": "stream",
     "text": [
      "Inserted unemployment_statistics document count:  1689\n"
     ]
    }
   ],
   "source": [
    "# Reading unemployment-statistics data\n",
    "unemployment_statistics_url = \"https://data.ny.gov/api/views/dh9m-5v4d/rows.json?accessType=DOWNLOAD\"\n",
    "unemployment_statistics_response = urllib.request.urlopen(unemployment_statistics_url)\n",
    "unemployment_statistics_data = json.loads(unemployment_statistics_response.read())\n",
    "\n",
    "# inserting into mongoDB\n",
    "unemployment_statistics_collection = project_db[\"unemployment_statistics\"]\n",
    "# deleting extising data\n",
    "unemployment_statistics_collection.drop()\n",
    "\n",
    "cols = unemployment_statistics_data[\"meta\"][\"view\"][\"columns\"]\n",
    "cols_without_minus_one = filter(lambda val: val[\"id\"] != -1, cols)\n",
    "unemployment_statistics_cols = list(cols_without_minus_one)\n",
    "\n",
    "unemployment_statistics_cols_others_len = len(list(filter(lambda val: val[\"id\"] == -1, cols)))\n",
    "\n",
    "for row in unemployment_statistics_data[\"data\"]:\n",
    "    db_row = {}\n",
    "    for col_meta in unemployment_statistics_cols:\n",
    "        data_value_index = int(col_meta[\"position\"]) + unemployment_statistics_cols_others_len - 1\n",
    "        db_row[col_meta[\"fieldName\"]] = row[data_value_index]\n",
    "    unemployment_statistics_collection.insert_one(db_row)\n",
    "\n",
    "print(\"Inserted unemployment_statistics document count: \", unemployment_statistics_collection.count_documents({}))"
   ]
  },
  {
   "cell_type": "code",
   "execution_count": 94,
   "id": "24af0f49",
   "metadata": {},
   "outputs": [
    {
     "name": "stdout",
     "output_type": "stream",
     "text": [
      "Inserted covid_cases document count:  1019\n"
     ]
    }
   ],
   "source": [
    "# Reading covid_cases\n",
    "covid_cases_url = \"https://data.cityofnewyork.us/api/views/rc75-m7u3/rows.json?accessType=DOWNLOAD\"\n",
    "covid_cases_response = urllib.request.urlopen(covid_cases_url)\n",
    "covid_cases_data = json.loads(covid_cases_response.read())\n",
    "\n",
    "# inserting into mongoDB\n",
    "covid_cases_collection = project_db[\"covid_cases\"]\n",
    "# deleting extising data\n",
    "covid_cases_collection.drop()\n",
    "\n",
    "\n",
    "covid_cases_cols = list(filter(lambda val: val[\"id\"] != -1, covid_cases_data[\"meta\"][\"view\"][\"columns\"]))\n",
    "covid_cases_cols_others_len = len(list(filter(lambda val: val[\"id\"] == -1, covid_cases_data[\"meta\"][\"view\"][\"columns\"])))\n",
    "\n",
    "\n",
    "for row in covid_cases_data[\"data\"]:\n",
    "    db_row = {}\n",
    "    for col in covid_cases_cols:\n",
    "        db_row[col[\"fieldName\"].lower()] = row[int(col[\"position\"]) + covid_cases_cols_others_len - 1]\n",
    "    covid_cases_collection.insert_one(db_row)\n",
    "\n",
    "print(\"Inserted covid_cases document count: \",covid_cases_collection.count_documents({}))"
   ]
  },
  {
   "cell_type": "code",
   "execution_count": 95,
   "id": "2cab8013",
   "metadata": {},
   "outputs": [
    {
     "name": "stdout",
     "output_type": "stream",
     "text": [
      "Inserted air_quality document count:  16122\n"
     ]
    }
   ],
   "source": [
    "# Reading air_quality\n",
    "air_quality_url = \"https://data.cityofnewyork.us/api/views/c3uy-2p5r/rows.xml?accessType=DOWNLOAD\"\n",
    "air_quality_response = urllib.request.urlopen(air_quality_url)\n",
    "air_quality_xml = ET.parse(air_quality_response)\n",
    "air_quality_xml_root = air_quality_xml.getroot()\n",
    "air_quality_data = []\n",
    "\n",
    "# inserting into mongoDB\n",
    "air_quality_collection = project_db[\"air_quality\"]\n",
    "# deleting extising data\n",
    "air_quality_collection.drop()\n",
    "\n",
    "for row in air_quality_xml_root[0].findall('row'):\n",
    "    air_quality_data_row = {}\n",
    "    for elem in row.iter():\n",
    "        if elem is not row:\n",
    "            key = elem.tag.lower()\n",
    "            value = elem.text\n",
    "            #{\"key\":\"value\"}             \n",
    "            air_quality_data_row[key] = value\n",
    "    if len(air_quality_data_row) != 0:\n",
    "        air_quality_collection.insert_one(air_quality_data_row)\n",
    "print(\"Inserted air_quality document count: \", air_quality_collection.count_documents({}))"
   ]
  },
  {
   "cell_type": "code",
   "execution_count": 96,
   "id": "62be045d",
   "metadata": {},
   "outputs": [],
   "source": [
    "#  MongoDB collections\n",
    "# 1. unemployment_statistics_collection\n",
    "# 2. covid_cases_collection\n",
    "# 3. air_quality_collection"
   ]
  },
  {
   "cell_type": "code",
   "execution_count": 97,
   "id": "c548612f",
   "metadata": {},
   "outputs": [],
   "source": [
    "# creating table in postgress\n",
    "conn = psycopg2.connect(database=\"postgres\",\n",
    "                        host=\"localhost\",\n",
    "                        user=\"postgres\",\n",
    "                        password=\"admin\",\n",
    "                        port=\"5432\")\n",
    "\n",
    "cursor = conn.cursor()\n",
    "cursor.execute(\"DROP TABLE IF EXISTS unemployment_statistics;CREATE TABLE unemployment_statistics (unemployment_statistics_id serial PRIMARY KEY, date_of_interest TIMESTAMP NOT NULL, area VARCHAR(255), labor_force BIGINT, employed BIGINT, unemployed BIGINT, unemployment_rate REAL);\")\n",
    "cursor.execute(\"DROP TABLE IF EXISTS covid_cases;CREATE TABLE covid_cases (covid_cases_id serial PRIMARY KEY, date_of_interest TIMESTAMP NOT NULL, case_count INTEGER);\")\n",
    "cursor.execute(\"DROP TABLE IF EXISTS air_quality;CREATE TABLE air_quality (air_quality_id serial PRIMARY KEY, date_of_interest TIMESTAMP NOT NULL, data_value REAL);\")\n",
    "\n",
    "conn.commit()"
   ]
  },
  {
   "cell_type": "code",
   "execution_count": 98,
   "id": "d45877ca",
   "metadata": {},
   "outputs": [],
   "source": [
    "unemployment_statistics_collection = project_db[\"unemployment_statistics\"]\n",
    "query = \"\"\"INSERT INTO unemployment_statistics \n",
    "    (date_of_interest, area, labor_force, employed, unemployed, unemployment_rate) \n",
    "    VALUES (%s,%s,%s,%s,%s,%s)\"\"\"\n",
    "cursor = conn.cursor()\n",
    "for row in unemployment_statistics_collection.find():\n",
    "    date = row[\"year\"]+\"-\"+row[\"month\"]+\"-01\"\n",
    "    cursor.execute(query, (date, row[\"area\"], row[\"labor_force\"], row[\"employed\"], \n",
    "                           row[\"unemployed\"], row[\"unemployment_rate\"]))\n",
    "cursor.close()\n",
    "conn.commit()"
   ]
  },
  {
   "cell_type": "code",
   "execution_count": 99,
   "id": "535f2230",
   "metadata": {},
   "outputs": [],
   "source": [
    "covid_cases_collection = project_db[\"covid_cases\"]\n",
    "\n",
    "cursor = conn.cursor()\n",
    "for row in covid_cases_collection.find():\n",
    "    date = row[\"date_of_interest\"]\n",
    "    cursor.execute(\"INSERT INTO covid_cases (date_of_interest, case_count) VALUES (%s,%s)\", \n",
    "                   (date, row[\"case_count\"]))\n",
    "cursor.close()\n",
    "conn.commit()"
   ]
  },
  {
   "cell_type": "code",
   "execution_count": 100,
   "id": "7fadf2d1",
   "metadata": {},
   "outputs": [],
   "source": [
    "air_quality_collection = project_db[\"air_quality\"]\n",
    "\n",
    "cursor = conn.cursor()\n",
    "for row in air_quality_collection.find():\n",
    "    date = row[\"start_date\"]\n",
    "    cursor.execute(\"INSERT INTO air_quality (date_of_interest, data_value) VALUES (%s,%s)\", \n",
    "                   (date, row[\"data_value\"]))\n",
    "cursor.close()\n",
    "conn.commit()"
   ]
  },
  {
   "cell_type": "code",
   "execution_count": 101,
   "id": "1bdfbc36",
   "metadata": {},
   "outputs": [],
   "source": [
    "cursor = conn.cursor();\n",
    "query = \"\"\"\n",
    "SELECT date_of_interest, AVG(unemployment_rate)\n",
    "    FROM unemployment_statistics \n",
    "    WHERE date_of_interest >= '2020-01-01' and date_of_interest < '2022-01-01'\n",
    "    GROUP BY date_of_interest ORDER BY date_of_interest ASC \n",
    "\n",
    "\"\"\"\n",
    "\n",
    "    \n",
    "cursor.execute(query)\n",
    "unemployment_rate_data = cursor.fetchall()\n",
    "cursor.close()\n"
   ]
  },
  {
   "cell_type": "code",
   "execution_count": 102,
   "id": "3f50e65a",
   "metadata": {},
   "outputs": [
    {
     "data": {
      "image/png": "[encoded data removed]",
      "text/plain": [
       "<Figure size 864x432 with 1 Axes>"
      ]
     },
     "metadata": {
      "needs_background": "light"
     },
     "output_type": "display_data"
    }
   ],
   "source": [
    "\n",
    "unemployment_rate_df = pd.DataFrame(data = unemployment_rate_data,\n",
    "                                   columns=[\"Date\",\n",
    "                                            \"Unemployment Rate\"])\n",
    "\n",
    "\n",
    "fig, ax = plt.subplots(figsize = (12,6))\n",
    "\n",
    "fig = sns.barplot(\n",
    "    data=unemployment_rate_df, \n",
    "    x=\"Date\", \n",
    "    y=\"Unemployment Rate\",\n",
    "    ax=ax\n",
    ")\n",
    "\n",
    "x_dates = unemployment_rate_df['Date'].dt.strftime('%Y-%m-%d').sort_values().unique()\n",
    "arr = ax.set_xticklabels(labels=x_dates, rotation=45, ha='right')\n"
   ]
  },
  {
   "cell_type": "code",
   "execution_count": 103,
   "id": "a6bc1dfa",
   "metadata": {},
   "outputs": [
    {
     "data": {
      "image/png": "[encoded data removed]",
      "text/plain": [
       "<Figure size 864x432 with 1 Axes>"
      ]
     },
     "metadata": {
      "needs_background": "light"
     },
     "output_type": "display_data"
    }
   ],
   "source": [
    "cursor = conn.cursor();\n",
    "cursor.execute(\"\"\"SELECT date_of_interest, avg(case_count) \n",
    "    FROM covid_cases  \n",
    "    WHERE date_of_interest >= '2020-01-01' and date_of_interest < '2022-01-01'\n",
    "    group by date_of_interest order by date_of_interest asc\"\"\")\n",
    "covid_cases_data = cursor.fetchall()\n",
    "cursor.close()\n",
    "\n",
    "\n",
    "covid_cases_data_df = pd.DataFrame(data = covid_cases_data,\n",
    "                                   columns=[\"Date\",\n",
    "                                            \"Case Count\"])\n",
    "\n",
    "fig, ax = plt.subplots(figsize = (12,6))\n",
    "fig = sns.lineplot(data = covid_cases_data_df, \n",
    "                   x=\"Date\", \n",
    "                   y=\"Case Count\",\n",
    "                   ax=ax\n",
    "                  )\n",
    "\n"
   ]
  },
  {
   "cell_type": "code",
   "execution_count": 104,
   "id": "443b0264",
   "metadata": {},
   "outputs": [
    {
     "data": {
      "image/png": "[encoded data removed]",
      "text/plain": [
       "<Figure size 864x432 with 1 Axes>"
      ]
     },
     "metadata": {
      "needs_background": "light"
     },
     "output_type": "display_data"
    }
   ],
   "source": [
    "cursor = conn.cursor();\n",
    "query = \"\"\"\n",
    "SELECT date_of_interest, avg(data_value) \n",
    "    FROM air_quality\n",
    "    WHERE date_of_interest >= '2020-01-01' and date_of_interest < '2022-01-01'\n",
    "    GROUP BY  date_of_interest order by date_of_interest asc\n",
    "\"\"\"\n",
    "cursor.execute(query)\n",
    "air_quality_data = cursor.fetchall()\n",
    "cursor.close()\n",
    "\n",
    "\n",
    "air_quality_data_df = pd.DataFrame(data = air_quality_data,\n",
    "                                   columns=[\"Date\",\n",
    "                                            \"Air Auality Data Value\"])\n",
    "\n",
    "# print(air_quality_data_df)\n",
    "fig, ax = plt.subplots(figsize = (12,6))\n",
    "\n",
    "fig = sns.scatterplot(data = air_quality_data_df, x=\"Date\", y=\"Air Auality Data Value\", ax=ax)\n"
   ]
  },
  {
   "cell_type": "code",
   "execution_count": 105,
   "id": "a4727582",
   "metadata": {},
   "outputs": [
    {
     "data": {
      "text/html": [
       "<div>\n",
       "<style scoped>\n",
       "    .dataframe tbody tr th:only-of-type {\n",
       "        vertical-align: middle;\n",
       "    }\n",
       "\n",
       "    .dataframe tbody tr th {\n",
       "        vertical-align: top;\n",
       "    }\n",
       "\n",
       "    .dataframe thead th {\n",
       "        text-align: right;\n",
       "    }\n",
       "</style>\n",
       "<table border=\"1\" class=\"dataframe\">\n",
       "  <thead>\n",
       "    <tr style=\"text-align: right;\">\n",
       "      <th></th>\n",
       "      <th>Date</th>\n",
       "      <th>Unemployment Rate</th>\n",
       "    </tr>\n",
       "  </thead>\n",
       "  <tbody>\n",
       "    <tr>\n",
       "      <th>0</th>\n",
       "      <td>2020-01-01</td>\n",
       "      <td>3.866667</td>\n",
       "    </tr>\n",
       "    <tr>\n",
       "      <th>1</th>\n",
       "      <td>2020-02-01</td>\n",
       "      <td>3.866667</td>\n",
       "    </tr>\n",
       "    <tr>\n",
       "      <th>2</th>\n",
       "      <td>2020-03-01</td>\n",
       "      <td>3.866667</td>\n",
       "    </tr>\n",
       "    <tr>\n",
       "      <th>3</th>\n",
       "      <td>2020-04-01</td>\n",
       "      <td>16.066667</td>\n",
       "    </tr>\n",
       "    <tr>\n",
       "      <th>4</th>\n",
       "      <td>2020-05-01</td>\n",
       "      <td>16.900000</td>\n",
       "    </tr>\n",
       "  </tbody>\n",
       "</table>\n",
       "</div>"
      ],
      "text/plain": [
       "        Date  Unemployment Rate\n",
       "0 2020-01-01           3.866667\n",
       "1 2020-02-01           3.866667\n",
       "2 2020-03-01           3.866667\n",
       "3 2020-04-01          16.066667\n",
       "4 2020-05-01          16.900000"
      ]
     },
     "execution_count": 105,
     "metadata": {},
     "output_type": "execute_result"
    }
   ],
   "source": [
    "unemployment_rate_df.head()"
   ]
  },
  {
   "cell_type": "code",
   "execution_count": 106,
   "id": "41663eaa",
   "metadata": {},
   "outputs": [
    {
     "data": {
      "text/html": [
       "<div>\n",
       "<style scoped>\n",
       "    .dataframe tbody tr th:only-of-type {\n",
       "        vertical-align: middle;\n",
       "    }\n",
       "\n",
       "    .dataframe tbody tr th {\n",
       "        vertical-align: top;\n",
       "    }\n",
       "\n",
       "    .dataframe thead th {\n",
       "        text-align: right;\n",
       "    }\n",
       "</style>\n",
       "<table border=\"1\" class=\"dataframe\">\n",
       "  <thead>\n",
       "    <tr style=\"text-align: right;\">\n",
       "      <th></th>\n",
       "      <th>Date</th>\n",
       "      <th>Case Count</th>\n",
       "    </tr>\n",
       "  </thead>\n",
       "  <tbody>\n",
       "    <tr>\n",
       "      <th>0</th>\n",
       "      <td>2020-02-29</td>\n",
       "      <td>1.00000000000000000000</td>\n",
       "    </tr>\n",
       "    <tr>\n",
       "      <th>1</th>\n",
       "      <td>2020-03-01</td>\n",
       "      <td>0E-20</td>\n",
       "    </tr>\n",
       "    <tr>\n",
       "      <th>2</th>\n",
       "      <td>2020-03-02</td>\n",
       "      <td>0E-20</td>\n",
       "    </tr>\n",
       "    <tr>\n",
       "      <th>3</th>\n",
       "      <td>2020-03-03</td>\n",
       "      <td>1.00000000000000000000</td>\n",
       "    </tr>\n",
       "    <tr>\n",
       "      <th>4</th>\n",
       "      <td>2020-03-04</td>\n",
       "      <td>5.0000000000000000</td>\n",
       "    </tr>\n",
       "  </tbody>\n",
       "</table>\n",
       "</div>"
      ],
      "text/plain": [
       "        Date              Case Count\n",
       "0 2020-02-29  1.00000000000000000000\n",
       "1 2020-03-01                   0E-20\n",
       "2 2020-03-02                   0E-20\n",
       "3 2020-03-03  1.00000000000000000000\n",
       "4 2020-03-04      5.0000000000000000"
      ]
     },
     "execution_count": 106,
     "metadata": {},
     "output_type": "execute_result"
    }
   ],
   "source": [
    "covid_cases_data_df.head()"
   ]
  },
  {
   "cell_type": "code",
   "execution_count": 107,
   "id": "512c5167",
   "metadata": {},
   "outputs": [
    {
     "data": {
      "text/html": [
       "<div>\n",
       "<style scoped>\n",
       "    .dataframe tbody tr th:only-of-type {\n",
       "        vertical-align: middle;\n",
       "    }\n",
       "\n",
       "    .dataframe tbody tr th {\n",
       "        vertical-align: top;\n",
       "    }\n",
       "\n",
       "    .dataframe thead th {\n",
       "        text-align: right;\n",
       "    }\n",
       "</style>\n",
       "<table border=\"1\" class=\"dataframe\">\n",
       "  <thead>\n",
       "    <tr style=\"text-align: right;\">\n",
       "      <th></th>\n",
       "      <th>Date</th>\n",
       "      <th>Air Auality Data Value</th>\n",
       "    </tr>\n",
       "  </thead>\n",
       "  <tbody>\n",
       "    <tr>\n",
       "      <th>0</th>\n",
       "      <td>2020-01-01</td>\n",
       "      <td>11.567340</td>\n",
       "    </tr>\n",
       "    <tr>\n",
       "      <th>1</th>\n",
       "      <td>2020-06-01</td>\n",
       "      <td>16.343664</td>\n",
       "    </tr>\n",
       "  </tbody>\n",
       "</table>\n",
       "</div>"
      ],
      "text/plain": [
       "        Date  Air Auality Data Value\n",
       "0 2020-01-01               11.567340\n",
       "1 2020-06-01               16.343664"
      ]
     },
     "execution_count": 107,
     "metadata": {},
     "output_type": "execute_result"
    }
   ],
   "source": [
    "air_quality_data_df.head()"
   ]
  },
  {
   "cell_type": "code",
   "execution_count": 110,
   "id": "7a4edf81",
   "metadata": {},
   "outputs": [
    {
     "name": "stdout",
     "output_type": "stream",
     "text": [
      "          Date  Air Auality Data Value              Case Count  \\\n",
      "0   2020-01-01               11.567340                     NaN   \n",
      "1   2020-06-01               16.343664    686.0000000000000000   \n",
      "2   2020-02-29                0.000000  1.00000000000000000000   \n",
      "3   2020-03-01                0.000000                   0E-20   \n",
      "4   2020-03-02                0.000000                   0E-20   \n",
      "..         ...                     ...                     ...   \n",
      "668 2021-12-27                0.000000      51252.000000000000   \n",
      "669 2021-12-28                0.000000      49689.000000000000   \n",
      "670 2021-12-29                0.000000      50514.000000000000   \n",
      "671 2021-12-30                0.000000      47460.000000000000   \n",
      "672 2021-12-31                0.000000      29141.000000000000   \n",
      "\n",
      "     Unemployment Rate        Covid Case Count  \n",
      "0             3.866667                       0  \n",
      "1            14.000000    686.0000000000000000  \n",
      "2             0.000000  1.00000000000000000000  \n",
      "3             3.866667                   0E-20  \n",
      "4             0.000000                   0E-20  \n",
      "..                 ...                     ...  \n",
      "668           0.000000      51252.000000000000  \n",
      "669           0.000000      49689.000000000000  \n",
      "670           0.000000      50514.000000000000  \n",
      "671           0.000000      47460.000000000000  \n",
      "672           0.000000      29141.000000000000  \n",
      "\n",
      "[673 rows x 5 columns]\n"
     ]
    }
   ],
   "source": [
    "covid_cases_air_quality_df = pd.merge(air_quality_data_df, covid_cases_data_df, how=\"outer\", on =\"Date\")\n",
    "all_data = pd.merge(covid_cases_air_quality_df, unemployment_rate_df, how=\"left\", on =\"Date\")\n",
    "\n",
    "all_data[\"Air Auality Data Value\"] = all_data[\"Air Auality Data Value\"].fillna(0)\n",
    "all_data[\"Covid Case Count\"] = all_data[\"Case Count\"].fillna(0)\n",
    "all_data[\"Unemployment Rate\"] = all_data[\"Unemployment Rate\"].fillna(0)\n",
    "\n",
    "print(all_data)\n"
   ]
  },
  {
   "cell_type": "code",
   "execution_count": 111,
   "id": "f84751f9",
   "metadata": {},
   "outputs": [
    {
     "name": "stderr",
     "output_type": "stream",
     "text": [
      "C:\\Users\\karthi\\AppData\\Local\\Temp\\ipykernel_24372\\2132446751.py:11: UserWarning: FixedFormatter should only be used together with FixedLocator\n",
      "  arr = ax.set_xticklabels(labels=x_dates, rotation=45, ha='right')\n"
     ]
    },
    {
     "data": {
      "image/png": "[encoded data removed]",
      "text/plain": [
       "<Figure size 864x432 with 1 Axes>"
      ]
     },
     "metadata": {
      "needs_background": "light"
     },
     "output_type": "display_data"
    }
   ],
   "source": [
    "ig, ax = plt.subplots(figsize = (12,6))\n",
    "\n",
    "fig = sns.scatterplot(data = all_data, \n",
    "                      x=\"Date\", \n",
    "                      y=\"Unemployment Rate\", \n",
    "                      hue=\"Covid Case Count\", \n",
    "                      size=\"Air Auality Data Value\", ax=ax)\n",
    "\n",
    "\n",
    "x_dates = unemployment_rate_df['Date'].dt.strftime('%Y-%m-%d').sort_values().unique()\n",
    "arr = ax.set_xticklabels(labels=x_dates, rotation=45, ha='right')\n"
   ]
  },
  {
   "cell_type": "code",
   "execution_count": null,
   "id": "1921c642",
   "metadata": {},
   "outputs": [],
   "source": []
  }
 ],
 "metadata": {
  "kernelspec": {
   "display_name": "Python 3 (ipykernel)",
   "language": "python",
   "name": "python3"
  },
  "language_info": {
   "codemirror_mode": {
    "name": "ipython",
    "version": 3
   },
   "file_extension": ".py",
   "mimetype": "text/x-python",
   "name": "python",
   "nbconvert_exporter": "python",
   "pygments_lexer": "ipython3",
   "version": "3.9.12"
  }
 },
 "nbformat": 4,
 "nbformat_minor": 5
}
